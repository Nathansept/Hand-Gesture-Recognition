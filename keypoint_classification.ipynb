{
  "cells": [
    {
      "cell_type": "markdown",
      "metadata": {},
      "source": [
        "# Import csv, numphy, tensorflow, dan juga sklearn model"
      ]
    },
    {
      "cell_type": "code",
      "execution_count": 45,
      "metadata": {
        "id": "igMyGnjE9hEp"
      },
      "outputs": [],
      "source": [
        "import csv\n",
        "\n",
        "import numpy as np\n",
        "import tensorflow as tf\n",
        "from sklearn.model_selection import train_test_split\n",
        "\n",
        "RANDOM_SEED = 42"
      ]
    },
    {
      "cell_type": "markdown",
      "metadata": {
        "id": "t2HDvhIu9hEr"
      },
      "source": [
        "# Menspesifikasikan Setiap Path"
      ]
    },
    {
      "cell_type": "code",
      "execution_count": 46,
      "metadata": {
        "id": "9NvZP2Zn9hEy"
      },
      "outputs": [],
      "source": [
        "dataset = 'model/keypoint_classifier/keypoint.csv'\n",
        "model_save_path = 'model/keypoint_classifier/keypoint_classifier.hdf5'\n",
        "tflite_save_path = 'model/keypoint_classifier/keypoint_classifier.tflite'"
      ]
    },
    {
      "cell_type": "markdown",
      "metadata": {
        "id": "s5oMH7x19hEz"
      },
      "source": [
        "# Setting Class"
      ]
    },
    {
      "cell_type": "code",
      "execution_count": 47,
      "metadata": {
        "id": "du4kodXL9hEz"
      },
      "outputs": [],
      "source": [
        "NUM_CLASSES = 6"
      ]
    },
    {
      "cell_type": "markdown",
      "metadata": {
        "id": "XjnL0uso9hEz"
      },
      "source": [
        "# Membaca Dataset"
      ]
    },
    {
      "cell_type": "code",
      "execution_count": 48,
      "metadata": {
        "id": "QT5ZqtEz9hE0"
      },
      "outputs": [],
      "source": [
        "X_dataset = np.loadtxt(dataset, delimiter=',', dtype='float32', usecols=list(range(1, (21 * 2) + 1)))"
      ]
    },
    {
      "cell_type": "code",
      "execution_count": 49,
      "metadata": {
        "id": "QmoKFsp49hE0"
      },
      "outputs": [],
      "source": [
        "y_dataset = np.loadtxt(dataset, delimiter=',', dtype='int32', usecols=(0))"
      ]
    },
    {
      "cell_type": "code",
      "execution_count": 50,
      "metadata": {
        "id": "xQU7JTZ_9hE0"
      },
      "outputs": [],
      "source": [
        "X_train, X_test, y_train, y_test = train_test_split(X_dataset, y_dataset, train_size=0.75, random_state=RANDOM_SEED)"
      ]
    },
    {
      "cell_type": "markdown",
      "metadata": {
        "id": "mxK_lETT9hE0"
      },
      "source": [
        "# Ngebuild Model"
      ]
    },
    {
      "cell_type": "code",
      "execution_count": 51,
      "metadata": {
        "id": "vHBmUf1t9hE1"
      },
      "outputs": [],
      "source": [
        "model = tf.keras.models.Sequential([\n",
        "    tf.keras.layers.Input((21 * 2, )),\n",
        "    tf.keras.layers.Dropout(0.2),\n",
        "    tf.keras.layers.Dense(20, activation='relu'),\n",
        "    tf.keras.layers.Dropout(0.4),\n",
        "    tf.keras.layers.Dense(10, activation='relu'),\n",
        "    tf.keras.layers.Dense(NUM_CLASSES, activation='softmax')\n",
        "])"
      ]
    },
    {
      "cell_type": "code",
      "execution_count": 52,
      "metadata": {
        "colab": {
          "base_uri": "https://localhost:8080/"
        },
        "id": "ypqky9tc9hE1",
        "outputId": "5db082bb-30e3-4110-bf63-a1ee777ecd46"
      },
      "outputs": [
        {
          "name": "stdout",
          "output_type": "stream",
          "text": [
            "Model: \"sequential_2\"\n",
            "_________________________________________________________________\n",
            " Layer (type)                Output Shape              Param #   \n",
            "=================================================================\n",
            " dropout_4 (Dropout)         (None, 42)                0         \n",
            "                                                                 \n",
            " dense_6 (Dense)             (None, 20)                860       \n",
            "                                                                 \n",
            " dropout_5 (Dropout)         (None, 20)                0         \n",
            "                                                                 \n",
            " dense_7 (Dense)             (None, 10)                210       \n",
            "                                                                 \n",
            " dense_8 (Dense)             (None, 6)                 66        \n",
            "                                                                 \n",
            "=================================================================\n",
            "Total params: 1,136\n",
            "Trainable params: 1,136\n",
            "Non-trainable params: 0\n",
            "_________________________________________________________________\n"
          ]
        }
      ],
      "source": [
        "model.summary()  # tf.keras.utils.plot_model(model, show_shapes=True)"
      ]
    },
    {
      "cell_type": "code",
      "execution_count": 53,
      "metadata": {
        "id": "MbMjOflQ9hE1"
      },
      "outputs": [],
      "source": [
        "# Model checkpoint callback\n",
        "cp_callback = tf.keras.callbacks.ModelCheckpoint(\n",
        "    model_save_path, verbose=1, save_weights_only=False)\n",
        "# Callback for early stopping\n",
        "es_callback = tf.keras.callbacks.EarlyStopping(patience=20, verbose=1)"
      ]
    },
    {
      "cell_type": "code",
      "execution_count": 54,
      "metadata": {
        "id": "c3Dac0M_9hE2"
      },
      "outputs": [],
      "source": [
        "# Model compilation\n",
        "model.compile(\n",
        "    optimizer='adam',\n",
        "    loss='sparse_categorical_crossentropy',\n",
        "    metrics=['accuracy']\n",
        ")"
      ]
    },
    {
      "cell_type": "markdown",
      "metadata": {
        "id": "7XI0j1Iu9hE2"
      },
      "source": [
        "# Training model"
      ]
    },
    {
      "cell_type": "code",
      "execution_count": 55,
      "metadata": {
        "colab": {
          "base_uri": "https://localhost:8080/"
        },
        "id": "WirBl-JE9hE3",
        "outputId": "71b30ca2-8294-4d9d-8aa2-800d90d399de",
        "scrolled": true
      },
      "outputs": [
        {
          "name": "stdout",
          "output_type": "stream",
          "text": [
            "Epoch 1/1000\n"
          ]
        },
        {
          "name": "stdout",
          "output_type": "stream",
          "text": [
            " 1/22 [>.............................] - ETA: 8s - loss: 2.1016 - accuracy: 0.1562\n",
            "Epoch 1: saving model to model/keypoint_classifier\\keypoint_classifier.hdf5\n",
            "22/22 [==============================] - 1s 8ms/step - loss: 1.9675 - accuracy: 0.1688 - val_loss: 1.8048 - val_accuracy: 0.2033\n",
            "Epoch 2/1000\n",
            " 1/22 [>.............................] - ETA: 0s - loss: 1.8808 - accuracy: 0.1562\n",
            "Epoch 2: saving model to model/keypoint_classifier\\keypoint_classifier.hdf5\n",
            "22/22 [==============================] - 0s 4ms/step - loss: 1.8362 - accuracy: 0.1784 - val_loss: 1.7726 - val_accuracy: 0.2133\n",
            "Epoch 3/1000\n",
            " 1/22 [>.............................] - ETA: 0s - loss: 1.8157 - accuracy: 0.1406\n",
            "Epoch 3: saving model to model/keypoint_classifier\\keypoint_classifier.hdf5\n",
            "22/22 [==============================] - 0s 4ms/step - loss: 1.7982 - accuracy: 0.1788 - val_loss: 1.7607 - val_accuracy: 0.2376\n",
            "Epoch 4/1000\n",
            " 1/22 [>.............................] - ETA: 0s - loss: 1.7366 - accuracy: 0.2188\n",
            "Epoch 4: saving model to model/keypoint_classifier\\keypoint_classifier.hdf5\n",
            "22/22 [==============================] - 0s 4ms/step - loss: 1.7841 - accuracy: 0.1917 - val_loss: 1.7484 - val_accuracy: 0.2519\n",
            "Epoch 5/1000\n",
            " 1/22 [>.............................] - ETA: 0s - loss: 1.7752 - accuracy: 0.2188\n",
            "Epoch 5: saving model to model/keypoint_classifier\\keypoint_classifier.hdf5\n",
            "22/22 [==============================] - 0s 4ms/step - loss: 1.7711 - accuracy: 0.2042 - val_loss: 1.7365 - val_accuracy: 0.2807\n",
            "Epoch 6/1000\n",
            " 1/22 [>.............................] - ETA: 0s - loss: 1.7685 - accuracy: 0.1875\n",
            "Epoch 6: saving model to model/keypoint_classifier\\keypoint_classifier.hdf5\n",
            "22/22 [==============================] - 0s 4ms/step - loss: 1.7567 - accuracy: 0.2112 - val_loss: 1.7210 - val_accuracy: 0.3083\n",
            "Epoch 7/1000\n",
            " 1/22 [>.............................] - ETA: 0s - loss: 1.7813 - accuracy: 0.2344\n",
            "Epoch 7: saving model to model/keypoint_classifier\\keypoint_classifier.hdf5\n",
            "22/22 [==============================] - 0s 4ms/step - loss: 1.7486 - accuracy: 0.2248 - val_loss: 1.7057 - val_accuracy: 0.3182\n",
            "Epoch 8/1000\n",
            " 1/22 [>.............................] - ETA: 0s - loss: 1.7868 - accuracy: 0.2266\n",
            "Epoch 8: saving model to model/keypoint_classifier\\keypoint_classifier.hdf5\n",
            "22/22 [==============================] - 0s 3ms/step - loss: 1.7329 - accuracy: 0.2447 - val_loss: 1.6891 - val_accuracy: 0.3459\n",
            "Epoch 9/1000\n",
            " 1/22 [>.............................] - ETA: 0s - loss: 1.7579 - accuracy: 0.2891\n",
            "Epoch 9: saving model to model/keypoint_classifier\\keypoint_classifier.hdf5\n",
            "22/22 [==============================] - 0s 4ms/step - loss: 1.7276 - accuracy: 0.2514 - val_loss: 1.6710 - val_accuracy: 0.3635\n",
            "Epoch 10/1000\n",
            " 1/22 [>.............................] - ETA: 0s - loss: 1.7138 - accuracy: 0.2734\n",
            "Epoch 10: saving model to model/keypoint_classifier\\keypoint_classifier.hdf5\n",
            "22/22 [==============================] - 0s 4ms/step - loss: 1.7154 - accuracy: 0.2466 - val_loss: 1.6554 - val_accuracy: 0.3834\n",
            "Epoch 11/1000\n",
            " 1/22 [>.............................] - ETA: 0s - loss: 1.6875 - accuracy: 0.2812\n",
            "Epoch 11: saving model to model/keypoint_classifier\\keypoint_classifier.hdf5\n",
            "22/22 [==============================] - 0s 3ms/step - loss: 1.7040 - accuracy: 0.2591 - val_loss: 1.6351 - val_accuracy: 0.3746\n",
            "Epoch 12/1000\n",
            " 1/22 [>.............................] - ETA: 0s - loss: 1.7353 - accuracy: 0.2422\n",
            "Epoch 12: saving model to model/keypoint_classifier\\keypoint_classifier.hdf5\n",
            "22/22 [==============================] - 0s 4ms/step - loss: 1.6900 - accuracy: 0.2635 - val_loss: 1.6146 - val_accuracy: 0.3878\n",
            "Epoch 13/1000\n",
            " 1/22 [>.............................] - ETA: 0s - loss: 1.6530 - accuracy: 0.3047\n",
            "Epoch 13: saving model to model/keypoint_classifier\\keypoint_classifier.hdf5\n",
            "22/22 [==============================] - 0s 3ms/step - loss: 1.6733 - accuracy: 0.2772 - val_loss: 1.5975 - val_accuracy: 0.3901\n",
            "Epoch 14/1000\n",
            " 1/22 [>.............................] - ETA: 0s - loss: 1.6288 - accuracy: 0.3438\n",
            "Epoch 14: saving model to model/keypoint_classifier\\keypoint_classifier.hdf5\n",
            "22/22 [==============================] - 0s 4ms/step - loss: 1.6541 - accuracy: 0.2993 - val_loss: 1.5747 - val_accuracy: 0.4110\n",
            "Epoch 15/1000\n",
            " 1/22 [>.............................] - ETA: 0s - loss: 1.6197 - accuracy: 0.2969\n",
            "Epoch 15: saving model to model/keypoint_classifier\\keypoint_classifier.hdf5\n",
            "22/22 [==============================] - 0s 4ms/step - loss: 1.6495 - accuracy: 0.2812 - val_loss: 1.5506 - val_accuracy: 0.4033\n",
            "Epoch 16/1000\n",
            " 1/22 [>.............................] - ETA: 0s - loss: 1.6100 - accuracy: 0.2969\n",
            "Epoch 16: saving model to model/keypoint_classifier\\keypoint_classifier.hdf5\n",
            "22/22 [==============================] - 0s 3ms/step - loss: 1.6340 - accuracy: 0.2927 - val_loss: 1.5300 - val_accuracy: 0.4376\n",
            "Epoch 17/1000\n",
            " 1/22 [>.............................] - ETA: 0s - loss: 1.6572 - accuracy: 0.3125\n",
            "Epoch 17: saving model to model/keypoint_classifier\\keypoint_classifier.hdf5\n",
            "22/22 [==============================] - 0s 4ms/step - loss: 1.6270 - accuracy: 0.3034 - val_loss: 1.5099 - val_accuracy: 0.4519\n",
            "Epoch 18/1000\n",
            " 1/22 [>.............................] - ETA: 0s - loss: 1.6448 - accuracy: 0.2734\n",
            "Epoch 18: saving model to model/keypoint_classifier\\keypoint_classifier.hdf5\n",
            "22/22 [==============================] - 0s 3ms/step - loss: 1.6012 - accuracy: 0.3070 - val_loss: 1.4898 - val_accuracy: 0.4762\n",
            "Epoch 19/1000\n",
            " 1/22 [>.............................] - ETA: 0s - loss: 1.6474 - accuracy: 0.2500\n",
            "Epoch 19: saving model to model/keypoint_classifier\\keypoint_classifier.hdf5\n",
            "22/22 [==============================] - 0s 4ms/step - loss: 1.6014 - accuracy: 0.3063 - val_loss: 1.4637 - val_accuracy: 0.4773\n",
            "Epoch 20/1000\n",
            " 1/22 [>.............................] - ETA: 0s - loss: 1.6351 - accuracy: 0.2656\n",
            "Epoch 20: saving model to model/keypoint_classifier\\keypoint_classifier.hdf5\n",
            "22/22 [==============================] - 0s 3ms/step - loss: 1.5819 - accuracy: 0.3295 - val_loss: 1.4469 - val_accuracy: 0.5127\n",
            "Epoch 21/1000\n",
            " 1/22 [>.............................] - ETA: 0s - loss: 1.4925 - accuracy: 0.3359\n",
            "Epoch 21: saving model to model/keypoint_classifier\\keypoint_classifier.hdf5\n",
            "22/22 [==============================] - 0s 4ms/step - loss: 1.5576 - accuracy: 0.3336 - val_loss: 1.4237 - val_accuracy: 0.5149\n",
            "Epoch 22/1000\n",
            " 1/22 [>.............................] - ETA: 0s - loss: 1.6125 - accuracy: 0.3359\n",
            "Epoch 22: saving model to model/keypoint_classifier\\keypoint_classifier.hdf5\n",
            "22/22 [==============================] - 0s 4ms/step - loss: 1.5683 - accuracy: 0.3266 - val_loss: 1.4120 - val_accuracy: 0.5359\n",
            "Epoch 23/1000\n",
            " 1/22 [>.............................] - ETA: 0s - loss: 1.5917 - accuracy: 0.2578\n",
            "Epoch 23: saving model to model/keypoint_classifier\\keypoint_classifier.hdf5\n",
            "22/22 [==============================] - 0s 4ms/step - loss: 1.5307 - accuracy: 0.3450 - val_loss: 1.3836 - val_accuracy: 0.5392\n",
            "Epoch 24/1000\n",
            " 1/22 [>.............................] - ETA: 0s - loss: 1.5724 - accuracy: 0.3125\n",
            "Epoch 24: saving model to model/keypoint_classifier\\keypoint_classifier.hdf5\n",
            "22/22 [==============================] - 0s 4ms/step - loss: 1.5202 - accuracy: 0.3362 - val_loss: 1.3638 - val_accuracy: 0.5657\n",
            "Epoch 25/1000\n",
            " 1/22 [>.............................] - ETA: 0s - loss: 1.5259 - accuracy: 0.3672\n",
            "Epoch 25: saving model to model/keypoint_classifier\\keypoint_classifier.hdf5\n",
            "22/22 [==============================] - 0s 3ms/step - loss: 1.5297 - accuracy: 0.3410 - val_loss: 1.3516 - val_accuracy: 0.5481\n",
            "Epoch 26/1000\n",
            " 1/22 [>.............................] - ETA: 0s - loss: 1.5308 - accuracy: 0.3438\n",
            "Epoch 26: saving model to model/keypoint_classifier\\keypoint_classifier.hdf5\n",
            "22/22 [==============================] - 0s 4ms/step - loss: 1.5051 - accuracy: 0.3535 - val_loss: 1.3333 - val_accuracy: 0.5536\n",
            "Epoch 27/1000\n",
            " 1/22 [>.............................] - ETA: 0s - loss: 1.5651 - accuracy: 0.3906\n",
            "Epoch 27: saving model to model/keypoint_classifier\\keypoint_classifier.hdf5\n",
            "22/22 [==============================] - 0s 4ms/step - loss: 1.5175 - accuracy: 0.3668 - val_loss: 1.3199 - val_accuracy: 0.5724\n",
            "Epoch 28/1000\n",
            " 1/22 [>.............................] - ETA: 0s - loss: 1.6306 - accuracy: 0.3438\n",
            "Epoch 28: saving model to model/keypoint_classifier\\keypoint_classifier.hdf5\n",
            "22/22 [==============================] - 0s 4ms/step - loss: 1.4934 - accuracy: 0.3638 - val_loss: 1.3077 - val_accuracy: 0.5657\n",
            "Epoch 29/1000\n",
            " 1/22 [>.............................] - ETA: 0s - loss: 1.4352 - accuracy: 0.4219\n",
            "Epoch 29: saving model to model/keypoint_classifier\\keypoint_classifier.hdf5\n",
            "22/22 [==============================] - 0s 4ms/step - loss: 1.4966 - accuracy: 0.3609 - val_loss: 1.2953 - val_accuracy: 0.5691\n",
            "Epoch 30/1000\n",
            " 1/22 [>.............................] - ETA: 0s - loss: 1.4941 - accuracy: 0.3047\n",
            "Epoch 30: saving model to model/keypoint_classifier\\keypoint_classifier.hdf5\n",
            "22/22 [==============================] - 0s 3ms/step - loss: 1.4675 - accuracy: 0.3730 - val_loss: 1.2840 - val_accuracy: 0.5713\n",
            "Epoch 31/1000\n",
            " 1/22 [>.............................] - ETA: 0s - loss: 1.3979 - accuracy: 0.3906\n",
            "Epoch 31: saving model to model/keypoint_classifier\\keypoint_classifier.hdf5\n",
            "22/22 [==============================] - 0s 4ms/step - loss: 1.4571 - accuracy: 0.3797 - val_loss: 1.2628 - val_accuracy: 0.6066\n",
            "Epoch 32/1000\n",
            " 1/22 [>.............................] - ETA: 0s - loss: 1.3893 - accuracy: 0.4531\n",
            "Epoch 32: saving model to model/keypoint_classifier\\keypoint_classifier.hdf5\n",
            "22/22 [==============================] - 0s 3ms/step - loss: 1.4651 - accuracy: 0.3774 - val_loss: 1.2546 - val_accuracy: 0.5867\n",
            "Epoch 33/1000\n",
            " 1/22 [>.............................] - ETA: 0s - loss: 1.4207 - accuracy: 0.4219\n",
            "Epoch 33: saving model to model/keypoint_classifier\\keypoint_classifier.hdf5\n",
            "22/22 [==============================] - 0s 4ms/step - loss: 1.4401 - accuracy: 0.3833 - val_loss: 1.2387 - val_accuracy: 0.6232\n",
            "Epoch 34/1000\n",
            " 1/22 [>.............................] - ETA: 0s - loss: 1.4237 - accuracy: 0.4375\n",
            "Epoch 34: saving model to model/keypoint_classifier\\keypoint_classifier.hdf5\n",
            "22/22 [==============================] - 0s 4ms/step - loss: 1.4438 - accuracy: 0.3863 - val_loss: 1.2279 - val_accuracy: 0.5989\n",
            "Epoch 35/1000\n",
            " 1/22 [>.............................] - ETA: 0s - loss: 1.3831 - accuracy: 0.3906\n",
            "Epoch 35: saving model to model/keypoint_classifier\\keypoint_classifier.hdf5\n",
            "22/22 [==============================] - 0s 3ms/step - loss: 1.4352 - accuracy: 0.3929 - val_loss: 1.2207 - val_accuracy: 0.6265\n",
            "Epoch 36/1000\n",
            " 1/22 [>.............................] - ETA: 0s - loss: 1.5217 - accuracy: 0.3203\n",
            "Epoch 36: saving model to model/keypoint_classifier\\keypoint_classifier.hdf5\n",
            "22/22 [==============================] - 0s 3ms/step - loss: 1.4166 - accuracy: 0.3996 - val_loss: 1.2134 - val_accuracy: 0.5967\n",
            "Epoch 37/1000\n",
            " 1/22 [>.............................] - ETA: 0s - loss: 1.3995 - accuracy: 0.4141\n",
            "Epoch 37: saving model to model/keypoint_classifier\\keypoint_classifier.hdf5\n",
            "22/22 [==============================] - 0s 4ms/step - loss: 1.4264 - accuracy: 0.3889 - val_loss: 1.2048 - val_accuracy: 0.6486\n",
            "Epoch 38/1000\n",
            " 1/22 [>.............................] - ETA: 0s - loss: 1.4222 - accuracy: 0.4219\n",
            "Epoch 38: saving model to model/keypoint_classifier\\keypoint_classifier.hdf5\n",
            "22/22 [==============================] - 0s 4ms/step - loss: 1.4236 - accuracy: 0.3900 - val_loss: 1.1869 - val_accuracy: 0.6376\n",
            "Epoch 39/1000\n",
            " 1/22 [>.............................] - ETA: 0s - loss: 1.4396 - accuracy: 0.3516\n",
            "Epoch 39: saving model to model/keypoint_classifier\\keypoint_classifier.hdf5\n",
            "22/22 [==============================] - 0s 3ms/step - loss: 1.4099 - accuracy: 0.3962 - val_loss: 1.1781 - val_accuracy: 0.6354\n",
            "Epoch 40/1000\n",
            " 1/22 [>.............................] - ETA: 0s - loss: 1.3832 - accuracy: 0.4141\n",
            "Epoch 40: saving model to model/keypoint_classifier\\keypoint_classifier.hdf5\n",
            "22/22 [==============================] - 0s 3ms/step - loss: 1.4029 - accuracy: 0.4018 - val_loss: 1.1756 - val_accuracy: 0.6519\n",
            "Epoch 41/1000\n",
            " 1/22 [>.............................] - ETA: 0s - loss: 1.3248 - accuracy: 0.4922\n",
            "Epoch 41: saving model to model/keypoint_classifier\\keypoint_classifier.hdf5\n",
            "22/22 [==============================] - 0s 4ms/step - loss: 1.3830 - accuracy: 0.4062 - val_loss: 1.1716 - val_accuracy: 0.6486\n",
            "Epoch 42/1000\n",
            " 1/22 [>.............................] - ETA: 0s - loss: 1.3547 - accuracy: 0.4609\n",
            "Epoch 42: saving model to model/keypoint_classifier\\keypoint_classifier.hdf5\n",
            "22/22 [==============================] - 0s 3ms/step - loss: 1.3810 - accuracy: 0.4209 - val_loss: 1.1611 - val_accuracy: 0.6552\n",
            "Epoch 43/1000\n",
            " 1/22 [>.............................] - ETA: 0s - loss: 1.4775 - accuracy: 0.4141\n",
            "Epoch 43: saving model to model/keypoint_classifier\\keypoint_classifier.hdf5\n",
            "22/22 [==============================] - 0s 3ms/step - loss: 1.3724 - accuracy: 0.4084 - val_loss: 1.1519 - val_accuracy: 0.6630\n",
            "Epoch 44/1000\n",
            " 1/22 [>.............................] - ETA: 0s - loss: 1.3393 - accuracy: 0.4609\n",
            "Epoch 44: saving model to model/keypoint_classifier\\keypoint_classifier.hdf5\n",
            "22/22 [==============================] - 0s 3ms/step - loss: 1.3690 - accuracy: 0.4335 - val_loss: 1.1409 - val_accuracy: 0.6674\n",
            "Epoch 45/1000\n",
            " 1/22 [>.............................] - ETA: 0s - loss: 1.3407 - accuracy: 0.4219\n",
            "Epoch 45: saving model to model/keypoint_classifier\\keypoint_classifier.hdf5\n",
            "22/22 [==============================] - 0s 4ms/step - loss: 1.3822 - accuracy: 0.4058 - val_loss: 1.1389 - val_accuracy: 0.6354\n",
            "Epoch 46/1000\n",
            " 1/22 [>.............................] - ETA: 0s - loss: 1.3034 - accuracy: 0.4766\n",
            "Epoch 46: saving model to model/keypoint_classifier\\keypoint_classifier.hdf5\n",
            "22/22 [==============================] - 0s 3ms/step - loss: 1.3794 - accuracy: 0.4268 - val_loss: 1.1397 - val_accuracy: 0.6564\n",
            "Epoch 47/1000\n",
            " 1/22 [>.............................] - ETA: 0s - loss: 1.3586 - accuracy: 0.4297\n",
            "Epoch 47: saving model to model/keypoint_classifier\\keypoint_classifier.hdf5\n",
            "22/22 [==============================] - 0s 4ms/step - loss: 1.3761 - accuracy: 0.4169 - val_loss: 1.1271 - val_accuracy: 0.6552\n",
            "Epoch 48/1000\n",
            " 1/22 [>.............................] - ETA: 0s - loss: 1.4452 - accuracy: 0.3516\n",
            "Epoch 48: saving model to model/keypoint_classifier\\keypoint_classifier.hdf5\n",
            "22/22 [==============================] - 0s 3ms/step - loss: 1.3714 - accuracy: 0.4198 - val_loss: 1.1200 - val_accuracy: 0.6873\n",
            "Epoch 49/1000\n",
            " 1/22 [>.............................] - ETA: 0s - loss: 1.3049 - accuracy: 0.4062\n",
            "Epoch 49: saving model to model/keypoint_classifier\\keypoint_classifier.hdf5\n",
            "22/22 [==============================] - 0s 4ms/step - loss: 1.3516 - accuracy: 0.4272 - val_loss: 1.1141 - val_accuracy: 0.6552\n",
            "Epoch 50/1000\n",
            " 1/22 [>.............................] - ETA: 0s - loss: 1.3278 - accuracy: 0.4375\n",
            "Epoch 50: saving model to model/keypoint_classifier\\keypoint_classifier.hdf5\n",
            "22/22 [==============================] - 0s 4ms/step - loss: 1.3238 - accuracy: 0.4390 - val_loss: 1.1131 - val_accuracy: 0.6851\n",
            "Epoch 51/1000\n",
            " 1/22 [>.............................] - ETA: 0s - loss: 1.2856 - accuracy: 0.4453\n",
            "Epoch 51: saving model to model/keypoint_classifier\\keypoint_classifier.hdf5\n",
            "22/22 [==============================] - 0s 4ms/step - loss: 1.3469 - accuracy: 0.4353 - val_loss: 1.1039 - val_accuracy: 0.6696\n",
            "Epoch 52/1000\n",
            " 1/22 [>.............................] - ETA: 0s - loss: 1.2046 - accuracy: 0.5234\n",
            "Epoch 52: saving model to model/keypoint_classifier\\keypoint_classifier.hdf5\n",
            "22/22 [==============================] - 0s 4ms/step - loss: 1.3544 - accuracy: 0.4235 - val_loss: 1.1027 - val_accuracy: 0.6862\n",
            "Epoch 53/1000\n",
            " 1/22 [>.............................] - ETA: 0s - loss: 1.3660 - accuracy: 0.3984\n",
            "Epoch 53: saving model to model/keypoint_classifier\\keypoint_classifier.hdf5\n",
            "22/22 [==============================] - 0s 4ms/step - loss: 1.3264 - accuracy: 0.4390 - val_loss: 1.0954 - val_accuracy: 0.6895\n",
            "Epoch 54/1000\n",
            " 1/22 [>.............................] - ETA: 0s - loss: 1.3084 - accuracy: 0.4531\n",
            "Epoch 54: saving model to model/keypoint_classifier\\keypoint_classifier.hdf5\n",
            "22/22 [==============================] - 0s 3ms/step - loss: 1.3344 - accuracy: 0.4464 - val_loss: 1.0948 - val_accuracy: 0.6729\n",
            "Epoch 55/1000\n",
            " 1/22 [>.............................] - ETA: 0s - loss: 1.2859 - accuracy: 0.4453\n",
            "Epoch 55: saving model to model/keypoint_classifier\\keypoint_classifier.hdf5\n",
            "22/22 [==============================] - 0s 3ms/step - loss: 1.3164 - accuracy: 0.4456 - val_loss: 1.0866 - val_accuracy: 0.6851\n",
            "Epoch 56/1000\n",
            " 1/22 [>.............................] - ETA: 0s - loss: 1.1586 - accuracy: 0.5000\n",
            "Epoch 56: saving model to model/keypoint_classifier\\keypoint_classifier.hdf5\n",
            "22/22 [==============================] - 0s 3ms/step - loss: 1.3343 - accuracy: 0.4224 - val_loss: 1.0851 - val_accuracy: 0.6884\n",
            "Epoch 57/1000\n",
            " 1/22 [>.............................] - ETA: 0s - loss: 1.2879 - accuracy: 0.4688\n",
            "Epoch 57: saving model to model/keypoint_classifier\\keypoint_classifier.hdf5\n",
            "22/22 [==============================] - 0s 3ms/step - loss: 1.3371 - accuracy: 0.4327 - val_loss: 1.0849 - val_accuracy: 0.6751\n",
            "Epoch 58/1000\n",
            " 1/22 [>.............................] - ETA: 0s - loss: 1.1354 - accuracy: 0.5625\n",
            "Epoch 58: saving model to model/keypoint_classifier\\keypoint_classifier.hdf5\n",
            "22/22 [==============================] - 0s 4ms/step - loss: 1.3253 - accuracy: 0.4290 - val_loss: 1.0750 - val_accuracy: 0.6983\n",
            "Epoch 59/1000\n",
            " 1/22 [>.............................] - ETA: 0s - loss: 1.3666 - accuracy: 0.4297\n",
            "Epoch 59: saving model to model/keypoint_classifier\\keypoint_classifier.hdf5\n",
            "22/22 [==============================] - 0s 3ms/step - loss: 1.3274 - accuracy: 0.4320 - val_loss: 1.0682 - val_accuracy: 0.7072\n",
            "Epoch 60/1000\n",
            " 1/22 [>.............................] - ETA: 0s - loss: 1.2885 - accuracy: 0.4453\n",
            "Epoch 60: saving model to model/keypoint_classifier\\keypoint_classifier.hdf5\n",
            "22/22 [==============================] - 0s 4ms/step - loss: 1.3294 - accuracy: 0.4324 - val_loss: 1.0770 - val_accuracy: 0.6939\n",
            "Epoch 61/1000\n",
            " 1/22 [>.............................] - ETA: 0s - loss: 1.1962 - accuracy: 0.5156\n",
            "Epoch 61: saving model to model/keypoint_classifier\\keypoint_classifier.hdf5\n",
            "22/22 [==============================] - 0s 3ms/step - loss: 1.3198 - accuracy: 0.4416 - val_loss: 1.0707 - val_accuracy: 0.6895\n",
            "Epoch 62/1000\n",
            " 1/22 [>.............................] - ETA: 0s - loss: 1.2767 - accuracy: 0.4922\n",
            "Epoch 62: saving model to model/keypoint_classifier\\keypoint_classifier.hdf5\n",
            "22/22 [==============================] - 0s 4ms/step - loss: 1.3153 - accuracy: 0.4537 - val_loss: 1.0547 - val_accuracy: 0.6917\n",
            "Epoch 63/1000\n",
            " 1/22 [>.............................] - ETA: 0s - loss: 1.3612 - accuracy: 0.3906\n",
            "Epoch 63: saving model to model/keypoint_classifier\\keypoint_classifier.hdf5\n",
            "22/22 [==============================] - 0s 5ms/step - loss: 1.3315 - accuracy: 0.4335 - val_loss: 1.0583 - val_accuracy: 0.6983\n",
            "Epoch 64/1000\n",
            " 1/22 [>.............................] - ETA: 0s - loss: 1.3070 - accuracy: 0.4141\n",
            "Epoch 64: saving model to model/keypoint_classifier\\keypoint_classifier.hdf5\n",
            "22/22 [==============================] - 0s 4ms/step - loss: 1.3025 - accuracy: 0.4467 - val_loss: 1.0491 - val_accuracy: 0.6972\n",
            "Epoch 65/1000\n",
            " 1/22 [>.............................] - ETA: 0s - loss: 1.3010 - accuracy: 0.4375\n",
            "Epoch 65: saving model to model/keypoint_classifier\\keypoint_classifier.hdf5\n",
            "22/22 [==============================] - 0s 3ms/step - loss: 1.3150 - accuracy: 0.4239 - val_loss: 1.0537 - val_accuracy: 0.7006\n",
            "Epoch 66/1000\n",
            " 1/22 [>.............................] - ETA: 0s - loss: 1.3500 - accuracy: 0.4453\n",
            "Epoch 66: saving model to model/keypoint_classifier\\keypoint_classifier.hdf5\n",
            "22/22 [==============================] - 0s 4ms/step - loss: 1.3060 - accuracy: 0.4475 - val_loss: 1.0460 - val_accuracy: 0.7050\n",
            "Epoch 67/1000\n",
            " 1/22 [>.............................] - ETA: 0s - loss: 1.3198 - accuracy: 0.4375\n",
            "Epoch 67: saving model to model/keypoint_classifier\\keypoint_classifier.hdf5\n",
            "22/22 [==============================] - 0s 3ms/step - loss: 1.3038 - accuracy: 0.4508 - val_loss: 1.0454 - val_accuracy: 0.6851\n",
            "Epoch 68/1000\n",
            " 1/22 [>.............................] - ETA: 0s - loss: 1.4311 - accuracy: 0.3750\n",
            "Epoch 68: saving model to model/keypoint_classifier\\keypoint_classifier.hdf5\n",
            "22/22 [==============================] - 0s 3ms/step - loss: 1.3128 - accuracy: 0.4309 - val_loss: 1.0454 - val_accuracy: 0.6773\n",
            "Epoch 69/1000\n",
            " 1/22 [>.............................] - ETA: 0s - loss: 1.2326 - accuracy: 0.4688\n",
            "Epoch 69: saving model to model/keypoint_classifier\\keypoint_classifier.hdf5\n",
            "22/22 [==============================] - 0s 4ms/step - loss: 1.3163 - accuracy: 0.4379 - val_loss: 1.0419 - val_accuracy: 0.7072\n",
            "Epoch 70/1000\n",
            " 1/22 [>.............................] - ETA: 0s - loss: 1.2807 - accuracy: 0.4375\n",
            "Epoch 70: saving model to model/keypoint_classifier\\keypoint_classifier.hdf5\n",
            "22/22 [==============================] - 0s 3ms/step - loss: 1.2745 - accuracy: 0.4548 - val_loss: 1.0385 - val_accuracy: 0.6917\n",
            "Epoch 71/1000\n",
            " 1/22 [>.............................] - ETA: 0s - loss: 1.3666 - accuracy: 0.3906\n",
            "Epoch 71: saving model to model/keypoint_classifier\\keypoint_classifier.hdf5\n",
            "22/22 [==============================] - 0s 4ms/step - loss: 1.2851 - accuracy: 0.4512 - val_loss: 1.0313 - val_accuracy: 0.7138\n",
            "Epoch 72/1000\n",
            " 1/22 [>.............................] - ETA: 0s - loss: 1.3115 - accuracy: 0.4375\n",
            "Epoch 72: saving model to model/keypoint_classifier\\keypoint_classifier.hdf5\n",
            "22/22 [==============================] - 0s 3ms/step - loss: 1.3087 - accuracy: 0.4449 - val_loss: 1.0328 - val_accuracy: 0.6961\n",
            "Epoch 73/1000\n",
            " 1/22 [>.............................] - ETA: 0s - loss: 1.3013 - accuracy: 0.4375\n",
            "Epoch 73: saving model to model/keypoint_classifier\\keypoint_classifier.hdf5\n",
            "22/22 [==============================] - 0s 4ms/step - loss: 1.2819 - accuracy: 0.4681 - val_loss: 1.0271 - val_accuracy: 0.7061\n",
            "Epoch 74/1000\n",
            " 1/22 [>.............................] - ETA: 0s - loss: 1.3312 - accuracy: 0.4844\n",
            "Epoch 74: saving model to model/keypoint_classifier\\keypoint_classifier.hdf5\n",
            "22/22 [==============================] - 0s 4ms/step - loss: 1.3043 - accuracy: 0.4419 - val_loss: 1.0269 - val_accuracy: 0.6983\n",
            "Epoch 75/1000\n",
            " 1/22 [>.............................] - ETA: 0s - loss: 1.1974 - accuracy: 0.5156\n",
            "Epoch 75: saving model to model/keypoint_classifier\\keypoint_classifier.hdf5\n",
            "22/22 [==============================] - 0s 4ms/step - loss: 1.2957 - accuracy: 0.4486 - val_loss: 1.0286 - val_accuracy: 0.7127\n",
            "Epoch 76/1000\n",
            " 1/22 [>.............................] - ETA: 0s - loss: 1.2703 - accuracy: 0.5000\n",
            "Epoch 76: saving model to model/keypoint_classifier\\keypoint_classifier.hdf5\n",
            "22/22 [==============================] - 0s 4ms/step - loss: 1.2889 - accuracy: 0.4541 - val_loss: 1.0278 - val_accuracy: 0.6961\n",
            "Epoch 77/1000\n",
            " 1/22 [>.............................] - ETA: 0s - loss: 1.2707 - accuracy: 0.4219\n",
            "Epoch 77: saving model to model/keypoint_classifier\\keypoint_classifier.hdf5\n",
            "22/22 [==============================] - 0s 3ms/step - loss: 1.2651 - accuracy: 0.4644 - val_loss: 1.0290 - val_accuracy: 0.6818\n",
            "Epoch 78/1000\n",
            " 1/22 [>.............................] - ETA: 0s - loss: 1.3055 - accuracy: 0.4688\n",
            "Epoch 78: saving model to model/keypoint_classifier\\keypoint_classifier.hdf5\n",
            "22/22 [==============================] - 0s 4ms/step - loss: 1.3079 - accuracy: 0.4478 - val_loss: 1.0199 - val_accuracy: 0.6917\n",
            "Epoch 79/1000\n",
            " 1/22 [>.............................] - ETA: 0s - loss: 1.4577 - accuracy: 0.3750\n",
            "Epoch 79: saving model to model/keypoint_classifier\\keypoint_classifier.hdf5\n",
            "22/22 [==============================] - 0s 4ms/step - loss: 1.2708 - accuracy: 0.4545 - val_loss: 1.0204 - val_accuracy: 0.6961\n",
            "Epoch 80/1000\n",
            " 1/22 [>.............................] - ETA: 0s - loss: 1.3176 - accuracy: 0.4141\n",
            "Epoch 80: saving model to model/keypoint_classifier\\keypoint_classifier.hdf5\n",
            "22/22 [==============================] - 0s 3ms/step - loss: 1.2700 - accuracy: 0.4560 - val_loss: 1.0181 - val_accuracy: 0.6906\n",
            "Epoch 81/1000\n",
            " 1/22 [>.............................] - ETA: 0s - loss: 1.3305 - accuracy: 0.3984\n",
            "Epoch 81: saving model to model/keypoint_classifier\\keypoint_classifier.hdf5\n",
            "22/22 [==============================] - 0s 4ms/step - loss: 1.2653 - accuracy: 0.4534 - val_loss: 1.0117 - val_accuracy: 0.7017\n",
            "Epoch 82/1000\n",
            " 1/22 [>.............................] - ETA: 0s - loss: 1.2912 - accuracy: 0.4766\n",
            "Epoch 82: saving model to model/keypoint_classifier\\keypoint_classifier.hdf5\n",
            "22/22 [==============================] - 0s 4ms/step - loss: 1.2768 - accuracy: 0.4530 - val_loss: 1.0127 - val_accuracy: 0.7039\n",
            "Epoch 83/1000\n",
            " 1/22 [>.............................] - ETA: 0s - loss: 1.2383 - accuracy: 0.4219\n",
            "Epoch 83: saving model to model/keypoint_classifier\\keypoint_classifier.hdf5\n",
            "22/22 [==============================] - 0s 3ms/step - loss: 1.2879 - accuracy: 0.4537 - val_loss: 1.0116 - val_accuracy: 0.6928\n",
            "Epoch 84/1000\n",
            " 1/22 [>.............................] - ETA: 0s - loss: 1.3818 - accuracy: 0.3984\n",
            "Epoch 84: saving model to model/keypoint_classifier\\keypoint_classifier.hdf5\n",
            "22/22 [==============================] - 0s 4ms/step - loss: 1.2740 - accuracy: 0.4560 - val_loss: 1.0039 - val_accuracy: 0.7293\n",
            "Epoch 85/1000\n",
            " 1/22 [>.............................] - ETA: 0s - loss: 1.3731 - accuracy: 0.4062\n",
            "Epoch 85: saving model to model/keypoint_classifier\\keypoint_classifier.hdf5\n",
            "22/22 [==============================] - 0s 4ms/step - loss: 1.2773 - accuracy: 0.4519 - val_loss: 1.0025 - val_accuracy: 0.7204\n",
            "Epoch 86/1000\n",
            " 1/22 [>.............................] - ETA: 0s - loss: 1.3155 - accuracy: 0.4375\n",
            "Epoch 86: saving model to model/keypoint_classifier\\keypoint_classifier.hdf5\n",
            "22/22 [==============================] - 0s 4ms/step - loss: 1.2782 - accuracy: 0.4504 - val_loss: 1.0130 - val_accuracy: 0.6818\n",
            "Epoch 87/1000\n",
            " 1/22 [>.............................] - ETA: 0s - loss: 1.3225 - accuracy: 0.4766\n",
            "Epoch 87: saving model to model/keypoint_classifier\\keypoint_classifier.hdf5\n",
            "22/22 [==============================] - 0s 3ms/step - loss: 1.2892 - accuracy: 0.4604 - val_loss: 1.0055 - val_accuracy: 0.7149\n",
            "Epoch 88/1000\n",
            " 1/22 [>.............................] - ETA: 0s - loss: 1.1795 - accuracy: 0.4766\n",
            "Epoch 88: saving model to model/keypoint_classifier\\keypoint_classifier.hdf5\n",
            "22/22 [==============================] - 0s 3ms/step - loss: 1.2737 - accuracy: 0.4611 - val_loss: 1.0031 - val_accuracy: 0.7006\n",
            "Epoch 89/1000\n",
            " 1/22 [>.............................] - ETA: 0s - loss: 1.2794 - accuracy: 0.3672\n",
            "Epoch 89: saving model to model/keypoint_classifier\\keypoint_classifier.hdf5\n",
            "22/22 [==============================] - 0s 4ms/step - loss: 1.2969 - accuracy: 0.4501 - val_loss: 1.0096 - val_accuracy: 0.6884\n",
            "Epoch 90/1000\n",
            " 1/22 [>.............................] - ETA: 0s - loss: 1.2467 - accuracy: 0.4219\n",
            "Epoch 90: saving model to model/keypoint_classifier\\keypoint_classifier.hdf5\n",
            "22/22 [==============================] - 0s 3ms/step - loss: 1.2617 - accuracy: 0.4622 - val_loss: 1.0046 - val_accuracy: 0.7061\n",
            "Epoch 91/1000\n",
            " 1/22 [>.............................] - ETA: 0s - loss: 1.3043 - accuracy: 0.4531\n",
            "Epoch 91: saving model to model/keypoint_classifier\\keypoint_classifier.hdf5\n",
            "22/22 [==============================] - 0s 4ms/step - loss: 1.2698 - accuracy: 0.4571 - val_loss: 1.0004 - val_accuracy: 0.7171\n",
            "Epoch 92/1000\n",
            " 1/22 [>.............................] - ETA: 0s - loss: 1.2628 - accuracy: 0.4766\n",
            "Epoch 92: saving model to model/keypoint_classifier\\keypoint_classifier.hdf5\n",
            "22/22 [==============================] - 0s 4ms/step - loss: 1.2564 - accuracy: 0.4648 - val_loss: 1.0030 - val_accuracy: 0.7006\n",
            "Epoch 93/1000\n",
            " 1/22 [>.............................] - ETA: 0s - loss: 1.2352 - accuracy: 0.4688\n",
            "Epoch 93: saving model to model/keypoint_classifier\\keypoint_classifier.hdf5\n",
            "22/22 [==============================] - 0s 4ms/step - loss: 1.2549 - accuracy: 0.4637 - val_loss: 1.0010 - val_accuracy: 0.7182\n",
            "Epoch 94/1000\n",
            " 1/22 [>.............................] - ETA: 0s - loss: 1.2435 - accuracy: 0.5000\n",
            "Epoch 94: saving model to model/keypoint_classifier\\keypoint_classifier.hdf5\n",
            "22/22 [==============================] - 0s 4ms/step - loss: 1.2706 - accuracy: 0.4689 - val_loss: 0.9929 - val_accuracy: 0.7249\n",
            "Epoch 95/1000\n",
            " 1/22 [>.............................] - ETA: 0s - loss: 1.1702 - accuracy: 0.5078\n",
            "Epoch 95: saving model to model/keypoint_classifier\\keypoint_classifier.hdf5\n",
            "22/22 [==============================] - 0s 3ms/step - loss: 1.2340 - accuracy: 0.4585 - val_loss: 0.9979 - val_accuracy: 0.6873\n",
            "Epoch 96/1000\n",
            " 1/22 [>.............................] - ETA: 0s - loss: 1.2898 - accuracy: 0.4297\n",
            "Epoch 96: saving model to model/keypoint_classifier\\keypoint_classifier.hdf5\n",
            "22/22 [==============================] - 0s 4ms/step - loss: 1.2673 - accuracy: 0.4677 - val_loss: 0.9922 - val_accuracy: 0.6895\n",
            "Epoch 97/1000\n",
            " 1/22 [>.............................] - ETA: 0s - loss: 1.1991 - accuracy: 0.4844\n",
            "Epoch 97: saving model to model/keypoint_classifier\\keypoint_classifier.hdf5\n",
            "22/22 [==============================] - 0s 4ms/step - loss: 1.2673 - accuracy: 0.4604 - val_loss: 0.9997 - val_accuracy: 0.6851\n",
            "Epoch 98/1000\n",
            " 1/22 [>.............................] - ETA: 0s - loss: 1.3104 - accuracy: 0.4453\n",
            "Epoch 98: saving model to model/keypoint_classifier\\keypoint_classifier.hdf5\n",
            "22/22 [==============================] - 0s 4ms/step - loss: 1.2566 - accuracy: 0.4748 - val_loss: 0.9994 - val_accuracy: 0.6729\n",
            "Epoch 99/1000\n",
            " 1/22 [>.............................] - ETA: 0s - loss: 1.2842 - accuracy: 0.4766\n",
            "Epoch 99: saving model to model/keypoint_classifier\\keypoint_classifier.hdf5\n",
            "22/22 [==============================] - 0s 3ms/step - loss: 1.2623 - accuracy: 0.4567 - val_loss: 0.9954 - val_accuracy: 0.7193\n",
            "Epoch 100/1000\n",
            " 1/22 [>.............................] - ETA: 0s - loss: 1.2568 - accuracy: 0.5078\n",
            "Epoch 100: saving model to model/keypoint_classifier\\keypoint_classifier.hdf5\n",
            "22/22 [==============================] - 0s 4ms/step - loss: 1.2649 - accuracy: 0.4674 - val_loss: 1.0023 - val_accuracy: 0.6961\n",
            "Epoch 101/1000\n",
            " 1/22 [>.............................] - ETA: 0s - loss: 1.1900 - accuracy: 0.4609\n",
            "Epoch 101: saving model to model/keypoint_classifier\\keypoint_classifier.hdf5\n",
            "22/22 [==============================] - 0s 4ms/step - loss: 1.2372 - accuracy: 0.4961 - val_loss: 0.9911 - val_accuracy: 0.6939\n",
            "Epoch 102/1000\n",
            " 1/22 [>.............................] - ETA: 0s - loss: 1.1805 - accuracy: 0.5000\n",
            "Epoch 102: saving model to model/keypoint_classifier\\keypoint_classifier.hdf5\n",
            "22/22 [==============================] - 0s 4ms/step - loss: 1.2480 - accuracy: 0.4677 - val_loss: 0.9927 - val_accuracy: 0.6829\n",
            "Epoch 103/1000\n",
            " 1/22 [>.............................] - ETA: 0s - loss: 1.2345 - accuracy: 0.4922\n",
            "Epoch 103: saving model to model/keypoint_classifier\\keypoint_classifier.hdf5\n",
            "22/22 [==============================] - 0s 4ms/step - loss: 1.2551 - accuracy: 0.4622 - val_loss: 0.9832 - val_accuracy: 0.7249\n",
            "Epoch 104/1000\n",
            " 1/22 [>.............................] - ETA: 0s - loss: 1.2852 - accuracy: 0.4688\n",
            "Epoch 104: saving model to model/keypoint_classifier\\keypoint_classifier.hdf5\n",
            "22/22 [==============================] - 0s 4ms/step - loss: 1.2651 - accuracy: 0.4626 - val_loss: 0.9916 - val_accuracy: 0.6818\n",
            "Epoch 105/1000\n",
            " 1/22 [>.............................] - ETA: 0s - loss: 1.3250 - accuracy: 0.4922\n",
            "Epoch 105: saving model to model/keypoint_classifier\\keypoint_classifier.hdf5\n",
            "22/22 [==============================] - 0s 3ms/step - loss: 1.2453 - accuracy: 0.4762 - val_loss: 0.9848 - val_accuracy: 0.7160\n",
            "Epoch 106/1000\n",
            " 1/22 [>.............................] - ETA: 0s - loss: 1.2414 - accuracy: 0.4609\n",
            "Epoch 106: saving model to model/keypoint_classifier\\keypoint_classifier.hdf5\n",
            "22/22 [==============================] - 0s 3ms/step - loss: 1.2447 - accuracy: 0.4748 - val_loss: 0.9822 - val_accuracy: 0.7006\n",
            "Epoch 107/1000\n",
            " 1/22 [>.............................] - ETA: 0s - loss: 1.2057 - accuracy: 0.4766\n",
            "Epoch 107: saving model to model/keypoint_classifier\\keypoint_classifier.hdf5\n",
            "22/22 [==============================] - 0s 3ms/step - loss: 1.2572 - accuracy: 0.4630 - val_loss: 0.9823 - val_accuracy: 0.7006\n",
            "Epoch 108/1000\n",
            " 1/22 [>.............................] - ETA: 0s - loss: 1.1845 - accuracy: 0.4766\n",
            "Epoch 108: saving model to model/keypoint_classifier\\keypoint_classifier.hdf5\n",
            "22/22 [==============================] - 0s 3ms/step - loss: 1.2470 - accuracy: 0.4781 - val_loss: 0.9854 - val_accuracy: 0.7204\n",
            "Epoch 109/1000\n",
            " 1/22 [>.............................] - ETA: 0s - loss: 1.1973 - accuracy: 0.5000\n",
            "Epoch 109: saving model to model/keypoint_classifier\\keypoint_classifier.hdf5\n",
            "22/22 [==============================] - 0s 4ms/step - loss: 1.2486 - accuracy: 0.4685 - val_loss: 0.9872 - val_accuracy: 0.6895\n",
            "Epoch 110/1000\n",
            " 1/22 [>.............................] - ETA: 0s - loss: 1.1905 - accuracy: 0.5078\n",
            "Epoch 110: saving model to model/keypoint_classifier\\keypoint_classifier.hdf5\n",
            "22/22 [==============================] - 0s 3ms/step - loss: 1.2261 - accuracy: 0.4788 - val_loss: 0.9887 - val_accuracy: 0.6851\n",
            "Epoch 111/1000\n",
            " 1/22 [>.............................] - ETA: 0s - loss: 1.2738 - accuracy: 0.4453\n",
            "Epoch 111: saving model to model/keypoint_classifier\\keypoint_classifier.hdf5\n",
            "22/22 [==============================] - 0s 3ms/step - loss: 1.2522 - accuracy: 0.4663 - val_loss: 0.9890 - val_accuracy: 0.7094\n",
            "Epoch 112/1000\n",
            " 1/22 [>.............................] - ETA: 0s - loss: 1.1969 - accuracy: 0.4766\n",
            "Epoch 112: saving model to model/keypoint_classifier\\keypoint_classifier.hdf5\n",
            "22/22 [==============================] - 0s 4ms/step - loss: 1.2520 - accuracy: 0.4630 - val_loss: 0.9928 - val_accuracy: 0.6884\n",
            "Epoch 113/1000\n",
            " 1/22 [>.............................] - ETA: 0s - loss: 1.2432 - accuracy: 0.4922\n",
            "Epoch 113: saving model to model/keypoint_classifier\\keypoint_classifier.hdf5\n",
            "22/22 [==============================] - 0s 3ms/step - loss: 1.2328 - accuracy: 0.4788 - val_loss: 0.9803 - val_accuracy: 0.7006\n",
            "Epoch 114/1000\n",
            " 1/22 [>.............................] - ETA: 0s - loss: 1.2266 - accuracy: 0.5078\n",
            "Epoch 114: saving model to model/keypoint_classifier\\keypoint_classifier.hdf5\n",
            "22/22 [==============================] - 0s 3ms/step - loss: 1.2449 - accuracy: 0.4692 - val_loss: 0.9776 - val_accuracy: 0.7094\n",
            "Epoch 115/1000\n",
            " 1/22 [>.............................] - ETA: 0s - loss: 1.3450 - accuracy: 0.3906\n",
            "Epoch 115: saving model to model/keypoint_classifier\\keypoint_classifier.hdf5\n",
            "22/22 [==============================] - 0s 4ms/step - loss: 1.2543 - accuracy: 0.4622 - val_loss: 0.9741 - val_accuracy: 0.7370\n",
            "Epoch 116/1000\n",
            " 1/22 [>.............................] - ETA: 0s - loss: 1.2845 - accuracy: 0.4062\n",
            "Epoch 116: saving model to model/keypoint_classifier\\keypoint_classifier.hdf5\n",
            "22/22 [==============================] - 0s 4ms/step - loss: 1.2463 - accuracy: 0.4792 - val_loss: 0.9917 - val_accuracy: 0.6740\n",
            "Epoch 117/1000\n",
            " 1/22 [>.............................] - ETA: 0s - loss: 1.2293 - accuracy: 0.4922\n",
            "Epoch 117: saving model to model/keypoint_classifier\\keypoint_classifier.hdf5\n",
            "22/22 [==============================] - 0s 3ms/step - loss: 1.2286 - accuracy: 0.4814 - val_loss: 0.9808 - val_accuracy: 0.7017\n",
            "Epoch 118/1000\n",
            " 1/22 [>.............................] - ETA: 0s - loss: 1.2807 - accuracy: 0.5000\n",
            "Epoch 118: saving model to model/keypoint_classifier\\keypoint_classifier.hdf5\n",
            "22/22 [==============================] - 0s 4ms/step - loss: 1.2287 - accuracy: 0.4891 - val_loss: 0.9749 - val_accuracy: 0.7204\n",
            "Epoch 119/1000\n",
            " 1/22 [>.............................] - ETA: 0s - loss: 1.3073 - accuracy: 0.4688\n",
            "Epoch 119: saving model to model/keypoint_classifier\\keypoint_classifier.hdf5\n",
            "22/22 [==============================] - 0s 3ms/step - loss: 1.2386 - accuracy: 0.4744 - val_loss: 0.9654 - val_accuracy: 0.7337\n",
            "Epoch 120/1000\n",
            " 1/22 [>.............................] - ETA: 0s - loss: 1.2027 - accuracy: 0.4766\n",
            "Epoch 120: saving model to model/keypoint_classifier\\keypoint_classifier.hdf5\n",
            "22/22 [==============================] - 0s 3ms/step - loss: 1.2436 - accuracy: 0.4740 - val_loss: 0.9732 - val_accuracy: 0.7017\n",
            "Epoch 121/1000\n",
            " 1/22 [>.............................] - ETA: 0s - loss: 1.3246 - accuracy: 0.4531\n",
            "Epoch 121: saving model to model/keypoint_classifier\\keypoint_classifier.hdf5\n",
            "22/22 [==============================] - 0s 3ms/step - loss: 1.2368 - accuracy: 0.4751 - val_loss: 0.9763 - val_accuracy: 0.7028\n",
            "Epoch 122/1000\n",
            " 1/22 [>.............................] - ETA: 0s - loss: 1.1387 - accuracy: 0.5391\n",
            "Epoch 122: saving model to model/keypoint_classifier\\keypoint_classifier.hdf5\n",
            "22/22 [==============================] - 0s 3ms/step - loss: 1.2389 - accuracy: 0.4762 - val_loss: 0.9867 - val_accuracy: 0.6928\n",
            "Epoch 123/1000\n",
            " 1/22 [>.............................] - ETA: 0s - loss: 1.2316 - accuracy: 0.4609\n",
            "Epoch 123: saving model to model/keypoint_classifier\\keypoint_classifier.hdf5\n",
            "22/22 [==============================] - 0s 3ms/step - loss: 1.2397 - accuracy: 0.4677 - val_loss: 0.9807 - val_accuracy: 0.7238\n",
            "Epoch 124/1000\n",
            " 1/22 [>.............................] - ETA: 0s - loss: 1.1940 - accuracy: 0.4609\n",
            "Epoch 124: saving model to model/keypoint_classifier\\keypoint_classifier.hdf5\n",
            "22/22 [==============================] - 0s 4ms/step - loss: 1.2374 - accuracy: 0.4759 - val_loss: 0.9806 - val_accuracy: 0.7116\n",
            "Epoch 125/1000\n",
            " 1/22 [>.............................] - ETA: 0s - loss: 1.3213 - accuracy: 0.5469\n",
            "Epoch 125: saving model to model/keypoint_classifier\\keypoint_classifier.hdf5\n",
            "22/22 [==============================] - 0s 3ms/step - loss: 1.2498 - accuracy: 0.4677 - val_loss: 0.9712 - val_accuracy: 0.7282\n",
            "Epoch 126/1000\n",
            " 1/22 [>.............................] - ETA: 0s - loss: 1.0985 - accuracy: 0.4688\n",
            "Epoch 126: saving model to model/keypoint_classifier\\keypoint_classifier.hdf5\n",
            "22/22 [==============================] - 0s 4ms/step - loss: 1.2378 - accuracy: 0.4829 - val_loss: 0.9747 - val_accuracy: 0.7050\n",
            "Epoch 127/1000\n",
            " 1/22 [>.............................] - ETA: 0s - loss: 1.1783 - accuracy: 0.5000\n",
            "Epoch 127: saving model to model/keypoint_classifier\\keypoint_classifier.hdf5\n",
            "22/22 [==============================] - 0s 4ms/step - loss: 1.2612 - accuracy: 0.4630 - val_loss: 0.9841 - val_accuracy: 0.6762\n",
            "Epoch 128/1000\n",
            " 1/22 [>.............................] - ETA: 0s - loss: 1.2851 - accuracy: 0.4531\n",
            "Epoch 128: saving model to model/keypoint_classifier\\keypoint_classifier.hdf5\n",
            "22/22 [==============================] - 0s 3ms/step - loss: 1.2265 - accuracy: 0.4810 - val_loss: 0.9704 - val_accuracy: 0.7359\n",
            "Epoch 129/1000\n",
            " 1/22 [>.............................] - ETA: 0s - loss: 1.2775 - accuracy: 0.4531\n",
            "Epoch 129: saving model to model/keypoint_classifier\\keypoint_classifier.hdf5\n",
            "22/22 [==============================] - 0s 3ms/step - loss: 1.2304 - accuracy: 0.4792 - val_loss: 0.9741 - val_accuracy: 0.7238\n",
            "Epoch 130/1000\n",
            " 1/22 [>.............................] - ETA: 0s - loss: 1.2877 - accuracy: 0.4844\n",
            "Epoch 130: saving model to model/keypoint_classifier\\keypoint_classifier.hdf5\n",
            "22/22 [==============================] - 0s 4ms/step - loss: 1.2125 - accuracy: 0.4843 - val_loss: 0.9757 - val_accuracy: 0.7083\n",
            "Epoch 131/1000\n",
            " 1/22 [>.............................] - ETA: 0s - loss: 1.3900 - accuracy: 0.3906\n",
            "Epoch 131: saving model to model/keypoint_classifier\\keypoint_classifier.hdf5\n",
            "22/22 [==============================] - 0s 3ms/step - loss: 1.2568 - accuracy: 0.4648 - val_loss: 0.9693 - val_accuracy: 0.7171\n",
            "Epoch 132/1000\n",
            " 1/22 [>.............................] - ETA: 0s - loss: 1.2627 - accuracy: 0.4531\n",
            "Epoch 132: saving model to model/keypoint_classifier\\keypoint_classifier.hdf5\n",
            "22/22 [==============================] - 0s 3ms/step - loss: 1.2352 - accuracy: 0.4666 - val_loss: 0.9759 - val_accuracy: 0.7127\n",
            "Epoch 133/1000\n",
            " 1/22 [>.............................] - ETA: 0s - loss: 1.2386 - accuracy: 0.4453\n",
            "Epoch 133: saving model to model/keypoint_classifier\\keypoint_classifier.hdf5\n",
            "22/22 [==============================] - 0s 3ms/step - loss: 1.2358 - accuracy: 0.4663 - val_loss: 0.9824 - val_accuracy: 0.6939\n",
            "Epoch 134/1000\n",
            " 1/22 [>.............................] - ETA: 0s - loss: 1.2675 - accuracy: 0.4297\n",
            "Epoch 134: saving model to model/keypoint_classifier\\keypoint_classifier.hdf5\n",
            "22/22 [==============================] - 0s 3ms/step - loss: 1.2633 - accuracy: 0.4781 - val_loss: 0.9699 - val_accuracy: 0.7116\n",
            "Epoch 135/1000\n",
            " 1/22 [>.............................] - ETA: 0s - loss: 1.2943 - accuracy: 0.4297\n",
            "Epoch 135: saving model to model/keypoint_classifier\\keypoint_classifier.hdf5\n",
            "22/22 [==============================] - 0s 4ms/step - loss: 1.2501 - accuracy: 0.4748 - val_loss: 0.9776 - val_accuracy: 0.6994\n",
            "Epoch 136/1000\n",
            " 1/22 [>.............................] - ETA: 0s - loss: 1.2719 - accuracy: 0.4453\n",
            "Epoch 136: saving model to model/keypoint_classifier\\keypoint_classifier.hdf5\n",
            "22/22 [==============================] - 0s 4ms/step - loss: 1.2457 - accuracy: 0.4707 - val_loss: 0.9672 - val_accuracy: 0.7249\n",
            "Epoch 137/1000\n",
            " 1/22 [>.............................] - ETA: 0s - loss: 1.2915 - accuracy: 0.4609\n",
            "Epoch 137: saving model to model/keypoint_classifier\\keypoint_classifier.hdf5\n",
            "22/22 [==============================] - 0s 3ms/step - loss: 1.2249 - accuracy: 0.4759 - val_loss: 0.9675 - val_accuracy: 0.7116\n",
            "Epoch 138/1000\n",
            " 1/22 [>.............................] - ETA: 0s - loss: 1.2761 - accuracy: 0.4453\n",
            "Epoch 138: saving model to model/keypoint_classifier\\keypoint_classifier.hdf5\n",
            "22/22 [==============================] - 0s 3ms/step - loss: 1.2412 - accuracy: 0.4703 - val_loss: 0.9745 - val_accuracy: 0.6851\n",
            "Epoch 139/1000\n",
            " 1/22 [>.............................] - ETA: 0s - loss: 1.3430 - accuracy: 0.4609\n",
            "Epoch 139: saving model to model/keypoint_classifier\\keypoint_classifier.hdf5\n",
            "22/22 [==============================] - 0s 4ms/step - loss: 1.2583 - accuracy: 0.4659 - val_loss: 0.9729 - val_accuracy: 0.6807\n",
            "Epoch 139: early stopping\n"
          ]
        },
        {
          "data": {
            "text/plain": [
              "<keras.callbacks.History at 0x1a963703408>"
            ]
          },
          "execution_count": 55,
          "metadata": {},
          "output_type": "execute_result"
        }
      ],
      "source": [
        "model.fit(\n",
        "    X_train,\n",
        "    y_train,\n",
        "    epochs=1000,\n",
        "    batch_size=128,\n",
        "    validation_data=(X_test, y_test),\n",
        "    callbacks=[cp_callback, es_callback]\n",
        ")"
      ]
    },
    {
      "cell_type": "code",
      "execution_count": 56,
      "metadata": {
        "colab": {
          "base_uri": "https://localhost:8080/"
        },
        "id": "pxvb2Y299hE3",
        "outputId": "59eb3185-2e37-4b9e-bc9d-ab1b8ac29b7f"
      },
      "outputs": [
        {
          "name": "stdout",
          "output_type": "stream",
          "text": [
            "8/8 [==============================] - 0s 1ms/step - loss: 0.9729 - accuracy: 0.6807\n"
          ]
        }
      ],
      "source": [
        "# Model evaluation\n",
        "val_loss, val_acc = model.evaluate(X_test, y_test, batch_size=128)"
      ]
    },
    {
      "cell_type": "code",
      "execution_count": 57,
      "metadata": {
        "id": "RBkmDeUW9hE4"
      },
      "outputs": [],
      "source": [
        "# Loading the saved model\n",
        "model = tf.keras.models.load_model(model_save_path)"
      ]
    },
    {
      "cell_type": "code",
      "execution_count": 58,
      "metadata": {
        "colab": {
          "base_uri": "https://localhost:8080/"
        },
        "id": "tFz9Tb0I9hE4",
        "outputId": "1c3b3528-54ae-4ee2-ab04-77429211cbef"
      },
      "outputs": [
        {
          "name": "stdout",
          "output_type": "stream",
          "text": [
            "1/1 [==============================] - 0s 37ms/step\n",
            "[0.00922128 0.00558575 0.02404727 0.27090257 0.37849712 0.31174603]\n",
            "4\n"
          ]
        }
      ],
      "source": [
        "# Inference test\n",
        "predict_result = model.predict(np.array([X_test[0]]))\n",
        "print(np.squeeze(predict_result))\n",
        "print(np.argmax(np.squeeze(predict_result)))"
      ]
    },
    {
      "cell_type": "markdown",
      "metadata": {
        "id": "S3U4yNWx9hE4"
      },
      "source": [
        "# Confusion matrix"
      ]
    },
    {
      "cell_type": "code",
      "execution_count": 59,
      "metadata": {
        "colab": {
          "base_uri": "https://localhost:8080/",
          "height": 582
        },
        "id": "AP1V6SCk9hE5",
        "outputId": "08e41a80-7a4a-4619-8125-ecc371368d19"
      },
      "outputs": [
        {
          "name": "stdout",
          "output_type": "stream",
          "text": [
            "29/29 [==============================] - 0s 750us/step\n"
          ]
        },
        {
          "data": {
            "image/png": "[encoded data removed]",
            "text/plain": [
              "<Figure size 700x600 with 2 Axes>"
            ]
          },
          "metadata": {},
          "output_type": "display_data"
        },
        {
          "name": "stdout",
          "output_type": "stream",
          "text": [
            "Classification Report\n",
            "              precision    recall  f1-score   support\n",
            "\n",
            "           0       0.85      0.68      0.76       100\n",
            "           1       0.63      0.61      0.62       141\n",
            "           2       0.63      0.85      0.73       163\n",
            "           3       0.65      0.71      0.68       174\n",
            "           4       0.59      0.61      0.60       171\n",
            "           5       0.94      0.62      0.74       156\n",
            "\n",
            "    accuracy                           0.68       905\n",
            "   macro avg       0.71      0.68      0.69       905\n",
            "weighted avg       0.70      0.68      0.68       905\n",
            "\n"
          ]
        }
      ],
      "source": [
        "import pandas as pd\n",
        "import seaborn as sns\n",
        "import matplotlib.pyplot as plt\n",
        "from sklearn.metrics import confusion_matrix, classification_report\n",
        "\n",
        "def print_confusion_matrix(y_true, y_pred, report=True):\n",
        "    labels = sorted(list(set(y_true)))\n",
        "    cmx_data = confusion_matrix(y_true, y_pred, labels=labels)\n",
        "    \n",
        "    df_cmx = pd.DataFrame(cmx_data, index=labels, columns=labels)\n",
        " \n",
        "    fig, ax = plt.subplots(figsize=(7, 6))\n",
        "    sns.heatmap(df_cmx, annot=True, fmt='g' ,square=False)\n",
        "    ax.set_ylim(len(set(y_true)), 0)\n",
        "    plt.show()\n",
        "    \n",
        "    if report:\n",
        "        print('Classification Report')\n",
        "        print(classification_report(y_test, y_pred))\n",
        "\n",
        "Y_pred = model.predict(X_test)\n",
        "y_pred = np.argmax(Y_pred, axis=1)\n",
        "\n",
        "print_confusion_matrix(y_test, y_pred)"
      ]
    },
    {
      "cell_type": "markdown",
      "metadata": {
        "id": "FNP6aqzc9hE5"
      },
      "source": [
        "# Convert to model for Tensorflow-Lite"
      ]
    },
    {
      "cell_type": "code",
      "execution_count": 60,
      "metadata": {
        "id": "ODjnYyld9hE6"
      },
      "outputs": [],
      "source": [
        "# Save as a model dedicated to inference\n",
        "model.save(model_save_path, include_optimizer=False)"
      ]
    },
    {
      "cell_type": "code",
      "execution_count": 61,
      "metadata": {
        "colab": {
          "base_uri": "https://localhost:8080/"
        },
        "id": "zRfuK8Y59hE6",
        "outputId": "a4ca585c-b5d5-4244-8291-8674063209bb"
      },
      "outputs": [
        {
          "name": "stderr",
          "output_type": "stream",
          "text": [
            "WARNING:absl:Found untraced functions such as _update_step_xla while saving (showing 1 of 1). These functions will not be directly callable after loading.\n"
          ]
        },
        {
          "name": "stdout",
          "output_type": "stream",
          "text": [
            "INFO:tensorflow:Assets written to: C:\\Users\\NATHAN~1\\AppData\\Local\\Temp\\tmpzla5b_ar\\assets\n"
          ]
        },
        {
          "name": "stderr",
          "output_type": "stream",
          "text": [
            "INFO:tensorflow:Assets written to: C:\\Users\\NATHAN~1\\AppData\\Local\\Temp\\tmpzla5b_ar\\assets\n"
          ]
        },
        {
          "data": {
            "text/plain": [
              "6660"
            ]
          },
          "execution_count": 61,
          "metadata": {},
          "output_type": "execute_result"
        }
      ],
      "source": [
        "# Transform model (quantization)\n",
        "\n",
        "converter = tf.lite.TFLiteConverter.from_keras_model(model)\n",
        "converter.optimizations = [tf.lite.Optimize.DEFAULT]\n",
        "tflite_quantized_model = converter.convert()\n",
        "\n",
        "open(tflite_save_path, 'wb').write(tflite_quantized_model)"
      ]
    },
    {
      "cell_type": "markdown",
      "metadata": {
        "id": "CHBPBXdx9hE6"
      },
      "source": [
        "# Inference test"
      ]
    },
    {
      "cell_type": "code",
      "execution_count": 62,
      "metadata": {
        "id": "mGAzLocO9hE7"
      },
      "outputs": [],
      "source": [
        "interpreter = tf.lite.Interpreter(model_path=tflite_save_path)\n",
        "interpreter.allocate_tensors()"
      ]
    },
    {
      "cell_type": "code",
      "execution_count": 63,
      "metadata": {
        "id": "oQuDK8YS9hE7"
      },
      "outputs": [],
      "source": [
        "# Get I / O tensor\n",
        "input_details = interpreter.get_input_details()\n",
        "output_details = interpreter.get_output_details()"
      ]
    },
    {
      "cell_type": "code",
      "execution_count": 64,
      "metadata": {
        "id": "2_ixAf_l9hE7"
      },
      "outputs": [],
      "source": [
        "interpreter.set_tensor(input_details[0]['index'], np.array([X_test[0]]))"
      ]
    },
    {
      "cell_type": "code",
      "execution_count": 65,
      "metadata": {
        "colab": {
          "base_uri": "https://localhost:8080/"
        },
        "id": "s4FoAnuc9hE7",
        "outputId": "91f18257-8d8b-4ef3-c558-e9b5f94fabbf",
        "scrolled": true
      },
      "outputs": [
        {
          "name": "stdout",
          "output_type": "stream",
          "text": [
            "Wall time: 0 ns\n"
          ]
        }
      ],
      "source": [
        "%%time\n",
        "# Inference implementation\n",
        "interpreter.invoke()\n",
        "tflite_results = interpreter.get_tensor(output_details[0]['index'])"
      ]
    },
    {
      "cell_type": "code",
      "execution_count": 66,
      "metadata": {
        "colab": {
          "base_uri": "https://localhost:8080/"
        },
        "id": "vONjp19J9hE8",
        "outputId": "77205e24-fd00-42c4-f7b6-e06e527c2cba"
      },
      "outputs": [
        {
          "name": "stdout",
          "output_type": "stream",
          "text": [
            "[0.00922127 0.00558574 0.02404725 0.27090254 0.37849715 0.31174612]\n",
            "4\n"
          ]
        }
      ],
      "source": [
        "print(np.squeeze(tflite_results))\n",
        "print(np.argmax(np.squeeze(tflite_results)))"
      ]
    }
  ],
  "metadata": {
    "accelerator": "GPU",
    "colab": {
      "collapsed_sections": [],
      "name": "keypoint_classification_EN.ipynb",
      "provenance": [],
      "toc_visible": true
    },
    "kernelspec": {
      "display_name": "Python 3",
      "language": "python",
      "name": "python3"
    },
    "language_info": {
      "codemirror_mode": {
        "name": "ipython",
        "version": 3
      },
      "file_extension": ".py",
      "mimetype": "text/x-python",
      "name": "python",
      "nbconvert_exporter": "python",
      "pygments_lexer": "ipython3",
      "version": "3.7.9"
    }
  },
  "nbformat": 4,
  "nbformat_minor": 0
}
